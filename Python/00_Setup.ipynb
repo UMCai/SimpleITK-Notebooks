{
 "cells": [
  {
   "cell_type": "markdown",
   "metadata": {},
   "source": [
    "# Welcome to SimpleITK Jupyter Notebooks\n",
    "\n",
    "\n",
    "## Newcomers to Jupyter Notebooks:\n",
    "1. We use two types of cells, code and markdown.\n",
    "2. To run a code cell, select it (mouse or arrow key so that it is highlighted) and then press shift+enter which also moves focus to the next cell or ctrl+enter which doesn't.\n",
    "3. Closing the browser window does not close the Jupyter server. To close the server, go to the terminal where you ran it and press ctrl+c twice.\n",
    "\n",
    "For additional details see the [Jupyter project documentation](https://jupyter.org/documentation) on Jupyter Notebook or JupyterLab.\n",
    "\n",
    "## SimpleITK Environment Setup\n",
    "\n",
    "Check that SimpleITK and auxiliary program(s) are correctly installed in your environment, and that you have the SimpleITK version which you expect (<b>requires network connectivity</b>).\n",
    "\n",
    "You can optionally download all of the data used in the notebooks in advance. This step is only necessary if you expect to run the notebooks without network connectivity."
   ]
  },
  {
   "cell_type": "markdown",
   "metadata": {},
   "source": [
    "The following cell checks that all expected packages are installed."
   ]
  },
  {
   "cell_type": "code",
   "execution_count": 1,
   "metadata": {},
   "outputs": [
    {
     "name": "stdout",
     "output_type": "stream",
     "text": [
      "All is well.\n"
     ]
    }
   ],
   "source": [
    "import importlib\n",
    "from distutils.version import LooseVersion\n",
    "\n",
    "# check that all packages are installed (see requirements.txt file)\n",
    "required_packages = {\n",
    "    \"jupyter\",\n",
    "    \"numpy\",\n",
    "    \"matplotlib\",\n",
    "    \"ipywidgets\",\n",
    "    \"scipy\",\n",
    "    \"pandas\",\n",
    "    \"numba\",\n",
    "    \"multiprocess\",\n",
    "    \"SimpleITK\",\n",
    "}\n",
    "\n",
    "problem_packages = list()\n",
    "# Iterate over the required packages: If the package is not installed\n",
    "# ignore the exception.\n",
    "for package in required_packages:\n",
    "    try:\n",
    "        p = importlib.import_module(package)\n",
    "    except ImportError:\n",
    "        problem_packages.append(package)\n",
    "\n",
    "if len(problem_packages) == 0:\n",
    "    print(\"All is well.\")\n",
    "else:\n",
    "    print(\n",
    "        \"The following packages are required but not installed: \"\n",
    "        + \", \".join(problem_packages)\n",
    "    )"
   ]
  },
  {
   "cell_type": "code",
   "execution_count": 2,
   "metadata": {},
   "outputs": [
    {
     "name": "stdout",
     "output_type": "stream",
     "text": [
      "SimpleITK Version: 2.4.0 (ITK 5.4)\n",
      "Compiled: Aug 15 2024 01:25:09\n",
      "\n"
     ]
    }
   ],
   "source": [
    "import SimpleITK as sitk\n",
    "\n",
    "%run update_path_to_download_script\n",
    "from downloaddata import fetch_data, fetch_data_all\n",
    "\n",
    "from ipywidgets import interact\n",
    "\n",
    "print(sitk.Version())"
   ]
  },
  {
   "cell_type": "code",
   "execution_count": 3,
   "metadata": {},
   "outputs": [],
   "source": [
    "import SimpleITK as sitk\n",
    "\n",
    "viewer = sitk.ImageViewer()\n",
    "# viewer.SetCommand( 'c:\\Program Files\\Slicer 4.10.2\\Slicer' )\n",
    "# viewer.SetCommand( r'c:\\Users\\p70089067\\AppData\\Local\\slicer.org\\Slicer 5.6.0\\Slicer')\n",
    "viewer.SetCommand( r'C:\\Program Files\\Fiji.app\\ImageJ-win64' )\n",
    "# viewer.SetCommand(path)"
   ]
  },
  {
   "cell_type": "markdown",
   "metadata": {},
   "source": [
    "We expect that you have an external image viewer installed. The default viewer is <a href=\"https://fiji.sc/#download\">Fiji</a>. If you have another viewer (i.e. ITK-SNAP or 3D Slicer) you will need to set an environment variable to point to it. This can be done from within a notebook as shown below."
   ]
  },
  {
   "cell_type": "code",
   "execution_count": 4,
   "metadata": {
    "simpleitk_error_allowed": "Exception thrown in SimpleITK Show:"
   },
   "outputs": [
    {
     "name": "stdout",
     "output_type": "stream",
     "text": [
      "Fetching SimpleITK.jpg\n",
      "Downloaded 7516 of 7516 bytes (100.00%)\n",
      "SimpleITK Show method could not find the viewer (Slicer not installed or environment variable pointing to non existant viewer).\n"
     ]
    }
   ],
   "source": [
    "# Uncomment the line below to change the default external viewer to your viewer of choice and test that it works.\n",
    "# %env SITK_SHOW_COMMAND 'C:\\Program Files\\Fiji.app\\ImageJ-win64'\n",
    "# %env SITK_SHOW_COMMAND 'c:\\Users\\p70089067\\AppData\\Local\\slicer.org\\Slicer 5.6.0\\Slicer'\n",
    "try:\n",
    "    sitk.Show(sitk.ReadImage(fetch_data(\"SimpleITK.jpg\")), \"SimpleITK Logo\", debugOn=True)\n",
    "except RuntimeError:\n",
    "    print('SimpleITK Show method could not find the viewer (Slicer not installed or ' +\n",
    "          'environment variable pointing to non existant viewer).')\n",
    "# Retrieve an image from the network, read it and display using the external viewer.\n",
    "# The show method will also set the display window's title and by setting debugOn to True,\n",
    "# will also print information with respect to the command it is attempting to invoke.\n",
    "# NOTE: The debug information is printed to the terminal from which you launched the notebook\n",
    "#       server.\n"
   ]
  },
  {
   "cell_type": "markdown",
   "metadata": {},
   "source": [
    "Now we check that the ipywidgets will display correctly. When you run the following cell you should see a slider.\n",
    "\n",
    "If you don't see a slider please shutdown the Jupyter server, at the command line prompt press Control-c twice, and then run the following command (jupyter notebook 5.2 or earlier):\n",
    "\n",
    "```jupyter nbextension enable --py --sys-prefix widgetsnbextension```"
   ]
  },
  {
   "cell_type": "code",
   "execution_count": null,
   "metadata": {},
   "outputs": [
    {
     "data": {
      "application/vnd.jupyter.widget-view+json": {
       "model_id": "2d1d61d970034ada89646b05c8ef8a86",
       "version_major": 2,
       "version_minor": 0
      },
      "text/plain": [
       "interactive(children=(IntSlider(value=5, description='x', max=10), Output()), _dom_classes=('widget-interact',…"
      ]
     },
     "metadata": {},
     "output_type": "display_data"
    }
   ],
   "source": [
    "interact(lambda x: x, x=(0, 10));"
   ]
  },
  {
   "cell_type": "markdown",
   "metadata": {},
   "source": [
    "Download all of the data in advance if you expect to be working offline (may take a couple of minutes)."
   ]
  },
  {
   "cell_type": "code",
   "execution_count": 6,
   "metadata": {},
   "outputs": [
    {
     "name": "stdout",
     "output_type": "stream",
     "text": [
      "Fetching cthead1.png\n",
      "Downloaded 29351 of 29351 bytes (100.00%)\n",
      "Fetching VM1111Shrink-RGB.png\n",
      "Downloaded 184076 of 184076 bytes (100.00%)\n",
      "Fetching 2th_cthead1.png\n",
      "Downloaded 3095 of 3095 bytes (100.00%)\n",
      "Fetching nac-hncma-atlas2013-Slicer4Version/Data/A1_grayT1.nrrd\n",
      "Downloaded 67390213 of 67390213 bytes (100.00%)\n",
      "Fetching nac-hncma-atlas2013-Slicer4Version/Data/A1_grayT2.nrrd\n",
      "Downloaded 63979843 of 63979843 bytes (100.00%)\n",
      "Fetching nac-hncma-atlas2013-Slicer4Version/Data/hncma-atlas.nrrd\n",
      "Downloaded 466196 of 466196 bytes (100.00%)\n",
      "Fetching B1.tiff\n",
      "Downloaded 50196 of 50196 bytes (100.00%)\n",
      "Fetching B2.tiff\n",
      "Downloaded 50196 of 50196 bytes (100.00%)\n",
      "Fetching B1_fixed_B2_moving0GenericAffine.mat\n",
      "Downloaded 137 of 137 bytes (100.00%)\n",
      "Fetching B1_fixed_B2_movingComposite.h5\n",
      "Downloaded 816984 of 816984 bytes (100.00%)\n",
      "Fetching coins.png\n",
      "Downloaded 583024 of 583024 bytes (100.00%)\n",
      "Fetching a_vm1108.png\n",
      "Downloaded 408256 of 408256 bytes (100.00%)\n",
      "Fetching vm_head_rgb.mha\n",
      "Downloaded 1040255141 of 1040255141 bytes (100.00%)\n",
      "Fetching vm_head_mri.mha\n",
      "Downloaded 1909280 of 1909280 bytes (100.00%)\n",
      "Fetching training_001_ct.mha\n",
      "Downloaded 15204697 of 15204697 bytes (100.00%)\n",
      "Fetching training_001_mr_T1.mha\n",
      "Downloaded 3408209 of 3408209 bytes (100.00%)\n",
      "Fetching ct_T1.standard\n",
      "Downloaded 1064 of 1064 bytes (100.00%)\n",
      "Fetching CIRS057A_MR_CT_DICOM/readme.txt\n",
      "Downloaded 96187036 of 96187036 bytes (100.00%)\n",
      "Fetching SimpleITK.jpg\n",
      "Fetching spherical_fiducials.mha\n",
      "Downloaded 22022308 of 22022308 bytes (100.00%)\n",
      "Fetching POPI/meta/00-P.mhd\n",
      "Downloaded 48936960 of 48936960 bytes (100.00%)\n",
      "Fetching POPI/meta/10-P.mhd\n",
      "Downloaded 48936960 of 48936960 bytes (100.00%)\n",
      "Fetching POPI/meta/20-P.mhd\n",
      "Downloaded 48936960 of 48936960 bytes (100.00%)\n",
      "Fetching POPI/meta/30-P.mhd\n",
      "Downloaded 48936960 of 48936960 bytes (100.00%)\n",
      "Fetching POPI/meta/40-P.mhd\n",
      "Downloaded 48936960 of 48936960 bytes (100.00%)\n",
      "Fetching POPI/meta/50-P.mhd\n",
      "Downloaded 48936960 of 48936960 bytes (100.00%)\n",
      "Fetching POPI/meta/60-P.mhd\n",
      "Downloaded 48936960 of 48936960 bytes (100.00%)\n",
      "Fetching POPI/meta/70-P.mhd\n",
      "Downloaded 48936960 of 48936960 bytes (100.00%)\n",
      "Fetching POPI/meta/80-P.mhd\n",
      "Downloaded 48936960 of 48936960 bytes (100.00%)\n",
      "Fetching POPI/meta/90-P.mhd\n",
      "Downloaded 48936960 of 48936960 bytes (100.00%)\n",
      "Fetching POPI/landmarks/00-Landmarks.pts\n",
      "Downloaded 715 of 715 bytes (100.00%)\n",
      "Fetching POPI/landmarks/10-Landmarks.pts\n",
      "Downloaded 727 of 727 bytes (100.00%)\n",
      "Fetching POPI/landmarks/20-Landmarks.pts\n",
      "Downloaded 712 of 712 bytes (100.00%)\n",
      "Fetching POPI/landmarks/30-Landmarks.pts\n",
      "Downloaded 713 of 713 bytes (100.00%)\n",
      "Fetching POPI/landmarks/40-Landmarks.pts\n",
      "Downloaded 714 of 714 bytes (100.00%)\n",
      "Fetching POPI/landmarks/50-Landmarks.pts\n",
      "Downloaded 719 of 719 bytes (100.00%)\n",
      "Fetching POPI/landmarks/60-Landmarks.pts\n",
      "Downloaded 729 of 729 bytes (100.00%)\n",
      "Fetching POPI/landmarks/70-Landmarks.pts\n",
      "Downloaded 716 of 716 bytes (100.00%)\n",
      "Fetching POPI/landmarks/80-Landmarks.pts\n",
      "Downloaded 718 of 718 bytes (100.00%)\n",
      "Fetching POPI/landmarks/90-Landmarks.pts\n",
      "Downloaded 711 of 711 bytes (100.00%)\n",
      "Fetching POPI/masks/00-air-body-lungs.mhd\n",
      "Downloaded 24473600 of 24473600 bytes (100.00%)\n",
      "Fetching POPI/masks/10-air-body-lungs.mhd\n",
      "Downloaded 24473600 of 24473600 bytes (100.00%)\n",
      "Fetching POPI/masks/20-air-body-lungs.mhd\n",
      "Downloaded 24473600 of 24473600 bytes (100.00%)\n",
      "Fetching POPI/masks/30-air-body-lungs.mhd\n",
      "Downloaded 24473600 of 24473600 bytes (100.00%)\n",
      "Fetching POPI/masks/40-air-body-lungs.mhd\n",
      "Downloaded 24473600 of 24473600 bytes (100.00%)\n",
      "Fetching POPI/masks/50-air-body-lungs.mhd\n",
      "Downloaded 24473600 of 24473600 bytes (100.00%)\n",
      "Fetching POPI/masks/60-air-body-lungs.mhd\n",
      "Downloaded 24473600 of 24473600 bytes (100.00%)\n",
      "Fetching POPI/masks/70-air-body-lungs.mhd\n",
      "Downloaded 24473600 of 24473600 bytes (100.00%)\n",
      "Fetching POPI/masks/80-air-body-lungs.mhd\n",
      "Downloaded 24473600 of 24473600 bytes (100.00%)\n",
      "Fetching POPI/masks/90-air-body-lungs.mhd\n",
      "Downloaded 24473600 of 24473600 bytes (100.00%)\n",
      "Fetching liverTumorSegmentations/Patient01Homo.mha\n",
      "Downloaded 1365461 of 1365461 bytes (100.00%)\n",
      "Fetching liverTumorSegmentations/Patient01Homo_Rad01.mha\n",
      "Downloaded 3757 of 3757 bytes (100.00%)\n",
      "Fetching liverTumorSegmentations/Patient01Homo_Rad02.mha\n",
      "Downloaded 3722 of 3722 bytes (100.00%)\n",
      "Fetching liverTumorSegmentations/Patient01Homo_Rad03.mha\n",
      "Downloaded 3796 of 3796 bytes (100.00%)\n",
      "Fetching Control.tif\n",
      "Downloaded 24002897 of 24002897 bytes (100.00%)\n",
      "Fetching head_mr_oriented.mha\n",
      "Downloaded 395432 of 395432 bytes (100.00%)\n",
      "Fetching fib_sem_bacillus_subtilis.mha\n",
      "Downloaded 74215399 of 74215399 bytes (100.00%)\n",
      "Fetching mr_slice_atlas/readme.txt\n",
      "Downloaded 22932 of 22932 bytes (100.00%)\n",
      "Fetching photo.dcm\n",
      "Downloaded 34506 of 34506 bytes (100.00%)\n",
      "Fetching leg_panorama/readme.txt\n",
      "Downloaded 4860564 of 4860564 bytes (100.00%)\n",
      "Fetching microscopy_colocalization.nrrd\n",
      "Downloaded 121566654 of 121566654 bytes (100.00%)\n",
      "Fetching cxr.dcm\n",
      "Downloaded 2427078 of 2427078 bytes (100.00%)\n"
     ]
    }
   ],
   "source": [
    "fetch_data_all(os.path.join(\"..\", \"Data\"), os.path.join(\"..\", \"Data\", \"manifest.json\"))"
   ]
  },
  {
   "cell_type": "code",
   "execution_count": null,
   "metadata": {},
   "outputs": [],
   "source": []
  }
 ],
 "metadata": {
  "kernelspec": {
   "display_name": "sitkpy",
   "language": "python",
   "name": "python3"
  },
  "language_info": {
   "codemirror_mode": {
    "name": "ipython",
    "version": 3
   },
   "file_extension": ".py",
   "mimetype": "text/x-python",
   "name": "python",
   "nbconvert_exporter": "python",
   "pygments_lexer": "ipython3",
   "version": "3.11.10"
  }
 },
 "nbformat": 4,
 "nbformat_minor": 4
}
